{
 "cells": [
  {
   "cell_type": "code",
   "execution_count": 16,
   "metadata": {},
   "outputs": [],
   "source": [
    "import sys, os\n",
    "from sklearn.model_selection import train_test_split\n",
    "\n",
    "image_path = \"../datasets/vote/images\"\n",
    "image_list = os.listdir(image_path)\n",
    "\n",
    "train, val = train_test_split(image_list, test_size=0.2, random_state=74)"
   ]
  },
  {
   "cell_type": "code",
   "execution_count": 17,
   "metadata": {},
   "outputs": [],
   "source": [
    "import shutil\n",
    "\n",
    "for img in train:\n",
    "    name = img.split(\".jpg\")[0]\n",
    "    shutil.copy(f\"../datasets/vote/images/{name}.jpg\", f\"../datasets/vote/train/images/{name}.jpg\")\n",
    "    shutil.copy(f\"./datasets/vote/labels/{name}.txt\", f\"../datasets/vote/train/labels/{name}.txt\")\n",
    "\n",
    "for img in val:\n",
    "    name = img.split(\".jpg\")[0]\n",
    "    shutil.copy(f\"../datasets/vote/images/{name}.jpg\", f\"../datasets/vote/val/images/{name}.jpg\")\n",
    "    shutil.copy(f\"../datasets/vote/labels/{name}.txt\", f\"../datasets/vote/val/labels/{name}.txt\")"
   ]
  },
  {
   "cell_type": "code",
   "execution_count": null,
   "metadata": {},
   "outputs": [],
   "source": []
  }
 ],
 "metadata": {
  "kernelspec": {
   "display_name": "velog",
   "language": "python",
   "name": "python3"
  },
  "language_info": {
   "codemirror_mode": {
    "name": "ipython",
    "version": 3
   },
   "file_extension": ".py",
   "mimetype": "text/x-python",
   "name": "python",
   "nbconvert_exporter": "python",
   "pygments_lexer": "ipython3",
   "version": "3.9.16"
  },
  "orig_nbformat": 4
 },
 "nbformat": 4,
 "nbformat_minor": 2
}
