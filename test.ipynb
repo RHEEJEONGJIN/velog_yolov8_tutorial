{
 "cells": [
  {
   "cell_type": "code",
   "execution_count": 5,
   "metadata": {},
   "outputs": [],
   "source": [
    "from ultralytics import YOLO\n",
    "import cv2\n",
    "import os\n",
    "import urllib"
   ]
  },
  {
   "cell_type": "code",
   "execution_count": 6,
   "metadata": {},
   "outputs": [
    {
     "data": {
      "text/plain": [
       "('data/bus.jpg', <http.client.HTTPMessage at 0x1763ed8b8e0>)"
      ]
     },
     "execution_count": 6,
     "metadata": {},
     "output_type": "execute_result"
    }
   ],
   "source": [
    "# download image\n",
    "os.makedirs('data', exist_ok=True)\n",
    "urllib.request.urlretrieve(\"https://ultralytics.com/images/bus.jpg\", 'data/bus.jpg')"
   ]
  },
  {
   "cell_type": "code",
   "execution_count": 7,
   "metadata": {},
   "outputs": [
    {
     "name": "stderr",
     "output_type": "stream",
     "text": [
      "\n",
      "                   from  n    params  module                                       arguments                     \n",
      "  0                  -1  1       928  ultralytics.nn.modules.Conv                  [3, 32, 3, 2]                 \n",
      "  1                  -1  1     18560  ultralytics.nn.modules.Conv                  [32, 64, 3, 2]                \n",
      "  2                  -1  1     29056  ultralytics.nn.modules.C2f                   [64, 64, 1, True]             \n",
      "  3                  -1  1     73984  ultralytics.nn.modules.Conv                  [64, 128, 3, 2]               \n",
      "  4                  -1  2    197632  ultralytics.nn.modules.C2f                   [128, 128, 2, True]           \n",
      "  5                  -1  1    295424  ultralytics.nn.modules.Conv                  [128, 256, 3, 2]              \n",
      "  6                  -1  2    788480  ultralytics.nn.modules.C2f                   [256, 256, 2, True]           \n",
      "  7                  -1  1   1180672  ultralytics.nn.modules.Conv                  [256, 512, 3, 2]              \n",
      "  8                  -1  1   1838080  ultralytics.nn.modules.C2f                   [512, 512, 1, True]           \n",
      "  9                  -1  1    656896  ultralytics.nn.modules.SPPF                  [512, 512, 5]                 \n",
      " 10                  -1  1         0  torch.nn.modules.upsampling.Upsample         [None, 2, 'nearest']          \n",
      " 11             [-1, 6]  1         0  ultralytics.nn.modules.Concat                [1]                           \n",
      " 12                  -1  1    591360  ultralytics.nn.modules.C2f                   [768, 256, 1]                 \n",
      " 13                  -1  1         0  torch.nn.modules.upsampling.Upsample         [None, 2, 'nearest']          \n",
      " 14             [-1, 4]  1         0  ultralytics.nn.modules.Concat                [1]                           \n",
      " 15                  -1  1    148224  ultralytics.nn.modules.C2f                   [384, 128, 1]                 \n",
      " 16                  -1  1    147712  ultralytics.nn.modules.Conv                  [128, 128, 3, 2]              \n",
      " 17            [-1, 12]  1         0  ultralytics.nn.modules.Concat                [1]                           \n",
      " 18                  -1  1    493056  ultralytics.nn.modules.C2f                   [384, 256, 1]                 \n",
      " 19                  -1  1    590336  ultralytics.nn.modules.Conv                  [256, 256, 3, 2]              \n",
      " 20             [-1, 9]  1         0  ultralytics.nn.modules.Concat                [1]                           \n",
      " 21                  -1  1   1969152  ultralytics.nn.modules.C2f                   [768, 512, 1]                 \n",
      " 22        [15, 18, 21]  1   2147008  ultralytics.nn.modules.Detect                [80, [128, 256, 512]]         \n",
      "\n"
     ]
    }
   ],
   "source": [
    "# load model\n",
    "model = YOLO(\"yolov8s.yaml\")\n",
    "model = YOLO(\"./pretrained/yolov8s.pt\")"
   ]
  },
  {
   "cell_type": "code",
   "execution_count": 8,
   "metadata": {},
   "outputs": [
    {
     "name": "stderr",
     "output_type": "stream",
     "text": [
      "cfg file passed. Overriding default params with cfg/custom.yaml.\n",
      "Ultralytics YOLOv8.0.51  Python-3.9.16 torch-1.12.1+cu116 CUDA:0 (NVIDIA GeForce RTX 3060 Ti, 8192MiB)\n",
      "\u001b[34m\u001b[1myolo\\engine\\trainer: \u001b[0mtask=detect, mode=train, model=./pretrained/yolov8s.pt, data=./dataset/coco128.yaml, epochs=1, patience=50, batch=16, imgsz=640, save=True, save_period=-1, cache=False, device=0, workers=8, project=runs/custom, name=rhee, exist_ok=True, pretrained=False, optimizer=SGD, verbose=True, seed=0, deterministic=True, single_cls=False, image_weights=False, rect=False, cos_lr=False, close_mosaic=10, resume=False, min_memory=False, overlap_mask=True, mask_ratio=4, dropout=0.0, val=True, split=val, save_json=False, save_hybrid=False, conf=None, iou=0.7, max_det=300, half=False, dnn=False, plots=True, source=None, show=False, save_txt=False, save_conf=False, save_crop=False, hide_labels=False, hide_conf=False, vid_stride=1, line_thickness=3, visualize=False, augment=False, agnostic_nms=False, classes=None, retina_masks=False, boxes=True, format=torchscript, keras=False, optimize=False, int8=False, dynamic=False, simplify=False, opset=None, workspace=4, nms=False, lr0=0.01, lrf=0.01, momentum=0.937, weight_decay=0.0005, warmup_epochs=3.0, warmup_momentum=0.8, warmup_bias_lr=0.1, box=7.5, cls=0.5, dfl=1.5, fl_gamma=0.0, label_smoothing=0.0, nbs=64, hsv_h=0.015, hsv_s=0.7, hsv_v=0.4, degrees=0.0, translate=0.1, scale=0.5, shear=0.0, perspective=0.0, flipud=0.0, fliplr=0.5, mosaic=1.0, mixup=0.0, copy_paste=0.0, cfg=None, v5loader=False, tracker=botsort.yaml, save_dir=runs\\custom\\rhee\n",
      "\n",
      "                   from  n    params  module                                       arguments                     \n",
      "  0                  -1  1       928  ultralytics.nn.modules.Conv                  [3, 32, 3, 2]                 \n",
      "  1                  -1  1     18560  ultralytics.nn.modules.Conv                  [32, 64, 3, 2]                \n",
      "  2                  -1  1     29056  ultralytics.nn.modules.C2f                   [64, 64, 1, True]             \n",
      "  3                  -1  1     73984  ultralytics.nn.modules.Conv                  [64, 128, 3, 2]               \n",
      "  4                  -1  2    197632  ultralytics.nn.modules.C2f                   [128, 128, 2, True]           \n",
      "  5                  -1  1    295424  ultralytics.nn.modules.Conv                  [128, 256, 3, 2]              \n",
      "  6                  -1  2    788480  ultralytics.nn.modules.C2f                   [256, 256, 2, True]           \n",
      "  7                  -1  1   1180672  ultralytics.nn.modules.Conv                  [256, 512, 3, 2]              \n",
      "  8                  -1  1   1838080  ultralytics.nn.modules.C2f                   [512, 512, 1, True]           \n",
      "  9                  -1  1    656896  ultralytics.nn.modules.SPPF                  [512, 512, 5]                 \n",
      " 10                  -1  1         0  torch.nn.modules.upsampling.Upsample         [None, 2, 'nearest']          \n",
      " 11             [-1, 6]  1         0  ultralytics.nn.modules.Concat                [1]                           \n",
      " 12                  -1  1    591360  ultralytics.nn.modules.C2f                   [768, 256, 1]                 \n",
      " 13                  -1  1         0  torch.nn.modules.upsampling.Upsample         [None, 2, 'nearest']          \n",
      " 14             [-1, 4]  1         0  ultralytics.nn.modules.Concat                [1]                           \n",
      " 15                  -1  1    148224  ultralytics.nn.modules.C2f                   [384, 128, 1]                 \n",
      " 16                  -1  1    147712  ultralytics.nn.modules.Conv                  [128, 128, 3, 2]              \n",
      " 17            [-1, 12]  1         0  ultralytics.nn.modules.Concat                [1]                           \n",
      " 18                  -1  1    493056  ultralytics.nn.modules.C2f                   [384, 256, 1]                 \n",
      " 19                  -1  1    590336  ultralytics.nn.modules.Conv                  [256, 256, 3, 2]              \n",
      " 20             [-1, 9]  1         0  ultralytics.nn.modules.Concat                [1]                           \n",
      " 21                  -1  1   1969152  ultralytics.nn.modules.C2f                   [768, 512, 1]                 \n",
      " 22        [15, 18, 21]  1   2147008  ultralytics.nn.modules.Detect                [80, [128, 256, 512]]         \n",
      "\n",
      "Transferred 355/355 items from pretrained weights\n",
      "WARNING  TensorBoard not initialized correctly, not logging this run. 'NoneType' object is not callable\n",
      "\u001b[34m\u001b[1mAMP: \u001b[0mrunning Automatic Mixed Precision (AMP) checks with YOLOv8n...\n",
      "\u001b[34m\u001b[1mAMP: \u001b[0mchecks failed . Anomalies were detected with AMP on your system that may lead to NaN losses or zero-mAP results, so AMP will be disabled during training.\n",
      "\u001b[34m\u001b[1moptimizer:\u001b[0m SGD(lr=0.01) with parameter groups 57 weight(decay=0.0), 64 weight(decay=0.0005), 63 bias\n",
      "\u001b[34m\u001b[1mtrain: \u001b[0mScanning C:\\Users\\jeongjin\\Desktop\\rhee\\velog_yolov8_tutorial\\datasets\\coco128\\labels\\train2017... 126 images, 2 backgrounds, 0 corrupt: 100%|██████████| 128/128 [00:00<00:00, 1132.79it/s]\n",
      "\u001b[34m\u001b[1mtrain: \u001b[0mNew cache created: C:\\Users\\jeongjin\\Desktop\\rhee\\velog_yolov8_tutorial\\datasets\\coco128\\labels\\train2017.cache\n",
      "\u001b[34m\u001b[1mval: \u001b[0mScanning C:\\Users\\jeongjin\\Desktop\\rhee\\velog_yolov8_tutorial\\datasets\\coco128\\labels\\train2017.cache... 126 images, 2 backgrounds, 0 corrupt: 100%|██████████| 128/128 [00:00<?, ?it/s]\n",
      "Plotting labels to runs\\custom\\rhee\\labels.jpg... \n",
      "Image sizes 640 train, 640 val\n",
      "Using 8 dataloader workers\n",
      "Logging results to \u001b[1mruns\\custom\\rhee\u001b[0m\n",
      "Starting training for 1 epochs...\n",
      "\n",
      "      Epoch    GPU_mem   box_loss   cls_loss   dfl_loss  Instances       Size\n",
      "        1/1      7.66G      1.101      1.066      1.224        172        640: 100%|██████████| 8/8 [00:05<00:00,  1.43it/s]\n",
      "                 Class     Images  Instances      Box(P          R      mAP50  mAP50-95): 100%|██████████| 4/4 [00:24<00:00,  6.10s/it]\n",
      "                   all        128        929      0.822      0.678      0.766      0.594\n",
      "\n",
      "1 epochs completed in 0.017 hours.\n",
      "Optimizer stripped from runs\\custom\\rhee\\weights\\last.pt, 22.6MB\n",
      "Optimizer stripped from runs\\custom\\rhee\\weights\\best.pt, 22.6MB\n",
      "\n",
      "Validating runs\\custom\\rhee\\weights\\best.pt...\n",
      "Ultralytics YOLOv8.0.51  Python-3.9.16 torch-1.12.1+cu116 CUDA:0 (NVIDIA GeForce RTX 3060 Ti, 8192MiB)\n",
      "Model summary (fused): 168 layers, 11156544 parameters, 0 gradients, 28.6 GFLOPs\n",
      "                 Class     Images  Instances      Box(P          R      mAP50  mAP50-95): 100%|██████████| 4/4 [00:23<00:00,  5.85s/it]\n",
      "                   all        128        929      0.822      0.673      0.766      0.594\n",
      "                person        128        254      0.934      0.671      0.836      0.632\n",
      "               bicycle        128          6          1      0.312      0.444      0.265\n",
      "                   car        128         46      0.816      0.217      0.406      0.228\n",
      "            motorcycle        128          5      0.827          1      0.928      0.764\n",
      "              airplane        128          6      0.882          1      0.995      0.859\n",
      "                   bus        128          7       0.76      0.714      0.795      0.717\n",
      "                 train        128          3      0.709          1      0.913       0.78\n",
      "                 truck        128         12      0.724      0.417      0.535       0.33\n",
      "                  boat        128          6      0.798        0.5      0.717       0.47\n",
      "         traffic light        128         14          1      0.206      0.402       0.23\n",
      "             stop sign        128          2      0.965          1      0.995      0.822\n",
      "                 bench        128          9       0.74      0.444      0.647      0.322\n",
      "                  bird        128         16      0.933          1      0.991      0.701\n",
      "                   cat        128          4      0.946          1      0.995       0.93\n",
      "                   dog        128          9      0.787      0.778      0.915      0.725\n",
      "                 horse        128          2      0.811          1      0.995      0.748\n",
      "              elephant        128         17      0.959      0.941      0.952      0.791\n",
      "                  bear        128          1      0.675          1      0.995      0.895\n",
      "                 zebra        128          4      0.887          1      0.995      0.972\n",
      "               giraffe        128          9      0.812       0.96      0.963      0.763\n",
      "              backpack        128          6      0.924        0.5      0.689       0.46\n",
      "              umbrella        128         18      0.926      0.694      0.836      0.629\n",
      "               handbag        128         19          1      0.169      0.451      0.284\n",
      "                   tie        128          7          1       0.75      0.859      0.639\n",
      "              suitcase        128          4          1      0.971      0.995      0.696\n",
      "               frisbee        128          5      0.722        0.8      0.802      0.696\n",
      "                  skis        128          1      0.845          1      0.995      0.697\n",
      "             snowboard        128          7      0.775      0.714       0.83      0.638\n",
      "           sports ball        128          6      0.701      0.667      0.637      0.383\n",
      "                  kite        128         10      0.757        0.4      0.583      0.286\n",
      "          baseball bat        128          4      0.686       0.25      0.645      0.242\n",
      "        baseball glove        128          7      0.975      0.429      0.431      0.255\n",
      "            skateboard        128          5      0.823        0.4      0.694      0.502\n",
      "         tennis racket        128          7      0.739      0.714       0.67      0.349\n",
      "                bottle        128         18      0.505      0.278      0.579      0.392\n",
      "            wine glass        128         16          1      0.497      0.798      0.538\n",
      "                   cup        128         36      0.843      0.448      0.796      0.514\n",
      "                  fork        128          6      0.647      0.167        0.4      0.271\n",
      "                 knife        128         16      0.896      0.542      0.814      0.572\n",
      "                 spoon        128         22      0.934      0.545      0.678      0.509\n",
      "                  bowl        128         28      0.842      0.763      0.806       0.69\n",
      "                banana        128          1        0.7          1      0.995      0.995\n",
      "              sandwich        128          2          1      0.939      0.995      0.995\n",
      "                orange        128          4      0.778          1      0.995      0.694\n",
      "              broccoli        128         11      0.719      0.182      0.337      0.272\n",
      "                carrot        128         24      0.828        0.6      0.755      0.549\n",
      "               hot dog        128          2      0.795          1      0.995      0.995\n",
      "                 pizza        128          5      0.833          1      0.995      0.843\n",
      "                 donut        128         14      0.771          1      0.968      0.877\n",
      "                  cake        128          4      0.864          1      0.995      0.855\n",
      "                 chair        128         35      0.573        0.4      0.533      0.329\n",
      "                 couch        128          6          1       0.76      0.955      0.773\n",
      "          potted plant        128         14          1      0.714      0.884      0.627\n",
      "                   bed        128          3      0.992          1      0.995      0.595\n",
      "          dining table        128         13      0.716      0.585      0.682      0.574\n",
      "                toilet        128          2      0.992          1      0.995      0.895\n",
      "                    tv        128          2      0.655          1      0.995      0.846\n",
      "                laptop        128          3      0.843      0.667      0.806      0.769\n",
      "                 mouse        128          2          1          0      0.221     0.0987\n",
      "                remote        128          8      0.888        0.5      0.646      0.584\n",
      "            cell phone        128          8      0.784      0.459      0.506      0.313\n",
      "             microwave        128          3      0.579      0.929      0.863      0.773\n",
      "                  oven        128          5      0.441        0.4      0.368      0.302\n",
      "                  sink        128          6      0.584      0.474      0.464      0.354\n",
      "          refrigerator        128          5      0.697        0.8      0.895       0.74\n",
      "                  book        128         29      0.752       0.21      0.535      0.272\n",
      "                 clock        128          9      0.938      0.889      0.984      0.823\n",
      "                  vase        128          2      0.313          1      0.828      0.828\n",
      "              scissors        128          1          1          0          0          0\n",
      "            teddy bear        128         21      0.926      0.601      0.844      0.599\n",
      "            toothbrush        128          5      0.924        0.8      0.938      0.784\n",
      "Speed: 0.8ms preprocess, 4.1ms inference, 0.0ms loss, 2.5ms postprocess per image\n",
      "Results saved to \u001b[1mruns\\custom\\rhee\u001b[0m\n"
     ]
    }
   ],
   "source": [
    "model.train(cfg=\"cfg/custom.yaml\")"
   ]
  },
  {
   "cell_type": "code",
   "execution_count": null,
   "metadata": {},
   "outputs": [],
   "source": []
  }
 ],
 "metadata": {
  "kernelspec": {
   "display_name": "velog",
   "language": "python",
   "name": "python3"
  },
  "language_info": {
   "codemirror_mode": {
    "name": "ipython",
    "version": 3
   },
   "file_extension": ".py",
   "mimetype": "text/x-python",
   "name": "python",
   "nbconvert_exporter": "python",
   "pygments_lexer": "ipython3",
   "version": "3.9.16"
  },
  "orig_nbformat": 4
 },
 "nbformat": 4,
 "nbformat_minor": 2
}
